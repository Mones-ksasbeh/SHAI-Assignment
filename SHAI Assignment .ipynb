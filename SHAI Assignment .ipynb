{
 "cells": [
  {
   "cell_type": "markdown",
   "id": "829eafd2-c659-42a7-a0bd-9b47b089f048",
   "metadata": {},
   "source": [
    "# **SHAI - Bootcamp - Assignment** "
   ]
  },
  {
   "cell_type": "code",
   "execution_count": 94,
   "id": "e25c122f-d7b9-43e7-8813-0209d53e56e5",
   "metadata": {
    "tags": []
   },
   "outputs": [],
   "source": [
    "# Import the required libraries\n",
    "import pandas as pd\n",
    "import numpy as nm \n",
    "import matplotlib.pyplot as plt \n",
    "\n",
    "# Read DataSet \n",
    "DF = pd.read_csv(\"Salaries.csv\")"
   ]
  },
  {
   "cell_type": "markdown",
   "id": "cfaf6574-0e2d-4233-88a6-eda77f7455f9",
   "metadata": {
    "tags": []
   },
   "source": [
    "# **-- Task 1 --**"
   ]
  },
  {
   "cell_type": "markdown",
   "id": "6d004fa2-4f4b-4b14-94cc-836c67e839e5",
   "metadata": {},
   "source": [
    "### **Basic Data Exploration**"
   ]
  },
  {
   "cell_type": "code",
   "execution_count": 95,
   "id": "75061087-0d39-42c9-b0db-3d860a1a4978",
   "metadata": {
    "tags": []
   },
   "outputs": [
    {
     "name": "stdout",
     "output_type": "stream",
     "text": [
      "The Number of Coulmns in the dataset --> 13\n",
      "The Number of Rows in the dataset --> 148654\n",
      "\n",
      "\n",
      "*** The data type for every attribute ***\n",
      "Id                    int64\n",
      "EmployeeName         object\n",
      "JobTitle             object\n",
      "BasePay             float64\n",
      "OvertimePay         float64\n",
      "OtherPay            float64\n",
      "Benefits            float64\n",
      "TotalPay            float64\n",
      "TotalPayBenefits    float64\n",
      "Year                  int64\n",
      "Notes               float64\n",
      "Agency               object\n",
      "Status              float64\n",
      "dtype: object\n"
     ]
    }
   ],
   "source": [
    "# To Know the number of Columns & Rows\n",
    "Shape = DF.shape  # a Tuple (rows , coulmns)\n",
    "Rows = Shape[0]\n",
    "Columns = Shape[1]\n",
    "print(f\"The Number of Coulmns in the dataset --> {Columns}\")\n",
    "print(f\"The Number of Rows in the dataset --> {Rows}\")\n",
    "\n",
    "# The DataType for each attribute \n",
    "print(\"\\n\\n*** The data type for every attribute ***\")\n",
    "Data_T = DF.dtypes\n",
    "print(Data_T)"
   ]
  },
  {
   "cell_type": "code",
   "execution_count": 96,
   "id": "0c58db7f-fbcd-4093-9d90-7d947d917197",
   "metadata": {
    "tags": []
   },
   "outputs": [
    {
     "name": "stdout",
     "output_type": "stream",
     "text": [
      "\n",
      "*** Missing values in each column ***\n",
      "\n",
      "Id                       0\n",
      "EmployeeName             0\n",
      "JobTitle                 0\n",
      "BasePay                609\n",
      "OvertimePay              4\n",
      "OtherPay                 4\n",
      "Benefits             36163\n",
      "TotalPay                 0\n",
      "TotalPayBenefits         0\n",
      "Year                     0\n",
      "Notes               148654\n",
      "Agency                   0\n",
      "Status              148654\n",
      "dtype: int64\n"
     ]
    }
   ],
   "source": [
    "# Number of Missing Data in each Column \n",
    "missing_values = DF.isnull().sum()\n",
    "print(\"\\n*** Missing values in each column ***\\n\")\n",
    "print(missing_values)"
   ]
  },
  {
   "cell_type": "markdown",
   "id": "7b0edbf8-e6dc-4a5d-b7d2-d5e5f0d27dbd",
   "metadata": {},
   "source": [
    "# **-- Task 2 --**\n"
   ]
  },
  {
   "cell_type": "markdown",
   "id": "56a23da2-7296-489b-a7f9-e82e7ee64560",
   "metadata": {
    "tags": []
   },
   "source": [
    "### **Descriptive Statistics**"
   ]
  },
  {
   "cell_type": "code",
   "execution_count": 97,
   "id": "b2d9a1f2-5f7a-4268-8fe8-bca62b0e6bee",
   "metadata": {
    "tags": []
   },
   "outputs": [
    {
     "name": "stdout",
     "output_type": "stream",
     "text": [
      "The Total Salary Mean -->  74768.32197169267\n",
      "The Total Salary Median -->  71426.60999999999\n",
      "The Salary Mode  -->  0.0\n",
      "The Salary Standerd Deviation  -->  50517.005273949944\n",
      "The Minimun Salary  --> -618.13\n",
      "The Maximum Salary  --> 567595.43\n",
      "The Salary Range  --> 568213.56\n"
     ]
    }
   ],
   "source": [
    "# Basic Statistics\n",
    "print( \"The Total Salary Mean --> \", DF[\"TotalPay\"].mean())\n",
    "\n",
    "print( \"The Total Salary Median --> \", DF[\"TotalPay\"].median())\n",
    "\n",
    "print( \"The Salary Mode  --> \", DF[\"TotalPay\"].mode()[0]) #?\n",
    "\n",
    "print( \"The Salary Standerd Deviation  --> \", DF[\"TotalPay\"].std())\n",
    "\n",
    "min = DF[\"TotalPay\"].min()\n",
    "max = DF[\"TotalPay\"].max()\n",
    "\n",
    "print( f\"The Minimun Salary  --> {min}\")\n",
    "print( f\"The Maximum Salary  --> {max}\")\n",
    "print( f\"The Salary Range  --> {max - min}\") # Range = maximum value - minimum value \n",
    "\n"
   ]
  },
  {
   "cell_type": "markdown",
   "id": "f02b68e5-daa9-4623-b236-96f2d7afc869",
   "metadata": {},
   "source": [
    "# **-- Task 3 --**"
   ]
  },
  {
   "cell_type": "markdown",
   "id": "96b8b19f-94bc-433a-9b2f-28a4ff711760",
   "metadata": {},
   "source": [
    "## **Data Cleaning**\n"
   ]
  },
  {
   "cell_type": "markdown",
   "id": "4867e684-29c1-44cc-bada-b53fba24f192",
   "metadata": {
    "tags": []
   },
   "source": [
    "#### There are multiple ways to handle missing data, in this assignment, I am gonna fill in the numeric Coulmn\n",
    "#### that have a null value such as Benefits & BasePay with the mean and the Notes & Status with\n",
    "#### \"NULL\" Text Because there are no values at all, and the missing data in OvertimePay & OtherPay means \n",
    "#### that the value is 0 so I fill it with that."
   ]
  },
  {
   "cell_type": "code",
   "execution_count": 98,
   "id": "7576cf6f-20ff-45e1-941f-9895e8fd20e4",
   "metadata": {
    "tags": []
   },
   "outputs": [
    {
     "name": "stdout",
     "output_type": "stream",
     "text": [
      "\n",
      "*** Missing values in each column ***\n",
      "Id                  0\n",
      "EmployeeName        0\n",
      "JobTitle            0\n",
      "BasePay             0\n",
      "OvertimePay         0\n",
      "OtherPay            0\n",
      "Benefits            0\n",
      "TotalPay            0\n",
      "TotalPayBenefits    0\n",
      "Year                0\n",
      "Notes               0\n",
      "Agency              0\n",
      "Status              0\n",
      "dtype: int64\n",
      "\n",
      "*** DONE !! ***\n",
      "\n"
     ]
    }
   ],
   "source": [
    "# Filling null value with mean of the attribute for Numeric \n",
    "# and \"NULL\" for non-Numeric \n",
    "DF2 = DF.fillna(value ={                              # ???`\n",
    "                \"Benefits\" : DF[\"Benefits\"].mean() , \n",
    "                \"BasePay\" : DF[\"BasePay\"].mean() ,\n",
    "                \"OvertimePay\" : 0.0 ,\n",
    "                \"OtherPay\" : 0.0 ,\n",
    "                \"Notes\" : \"NULL\" , \n",
    "                \"Status\" : \"NULL\"})\n",
    "\n",
    "# make a new Data frame to avoid edit in original Data set \n",
    "DF2.to_csv(\"Modified.csv\")\n",
    "\n",
    "# Check if this process is Done by see if there are still missing data \n",
    "missing_values = DF2.isnull().sum()\n",
    "print(\"\\n*** Missing values in each column ***\")\n",
    "print(missing_values)\n",
    "print(\"\\n*** DONE !! ***\\n\")"
   ]
  },
  {
   "cell_type": "markdown",
   "id": "109b37d6-fbcc-479d-adb8-e41ebc54526e",
   "metadata": {},
   "source": [
    "# **-- Task 4 --**"
   ]
  },
  {
   "cell_type": "markdown",
   "id": "45b9b77c-00c7-42f5-be8e-21a7fd5b4e2b",
   "metadata": {
    "tags": []
   },
   "source": [
    "### **Basic Data Visualization**\n"
   ]
  },
  {
   "cell_type": "code",
   "execution_count": 99,
   "id": "becddfbb-9c9d-4342-a779-1f77b2600216",
   "metadata": {},
   "outputs": [
    {
     "data": {
      "image/png": "[encoded data removed]",
      "text/plain": [
       "<Figure size 640x480 with 1 Axes>"
      ]
     },
     "metadata": {},
     "output_type": "display_data"
    }
   ],
   "source": [
    "# Visualiza a TotalPay ( Salary ) Attrubite in a Histofram \n",
    "plt.hist(DF[\"TotalPay\"] , color= \"lightgreen\")\n",
    "plt.title(\"Histogram Distribution for TotalPay (Salary)\\n\")\n",
    "plt.show()"
   ]
  },
  {
   "cell_type": "markdown",
   "id": "341aaf61-574d-4cc1-9df9-204b063493e9",
   "metadata": {},
   "source": [
    "### NOTE: for the pie Chart, to be honest, I think the Department is not Totlay clear in the\n",
    "### Data in JobTitle attribute so based on the Note for assignment this is not clear for me  ... Thank you"
   ]
  },
  {
   "cell_type": "markdown",
   "id": "8ba53533-1c66-42fe-bf2d-9b36af163c1f",
   "metadata": {},
   "source": [
    "# **-- Task 5 --**"
   ]
  },
  {
   "cell_type": "markdown",
   "id": "b05950c5-b206-4cbb-8ed4-f40667d9bba0",
   "metadata": {},
   "source": [
    "### **Grouped Analysis**"
   ]
  },
  {
   "cell_type": "code",
   "execution_count": 100,
   "id": "3a2d8475-b046-45e1-b08b-08a45dead7d2",
   "metadata": {
    "tags": []
   },
   "outputs": [
    {
     "name": "stdout",
     "output_type": "stream",
     "text": [
      "Average Salaries Across Different Years:\n",
      "Year\n",
      "2011    71744.103871\n",
      "2012    74113.262265\n",
      "2013    77611.443142\n",
      "2014    75463.918140\n",
      "Name: TotalPay, dtype: float64 \n",
      "\n",
      "\n",
      "Maximum Salaries Across Different Years:\n",
      "Year\n",
      "2011    567595.43\n",
      "2012    362844.66\n",
      "2013    347102.32\n",
      "2014    471952.64\n",
      "Name: TotalPay, dtype: float64\n"
     ]
    }
   ],
   "source": [
    "# Group the data by Year attribute\n",
    "\n",
    "Group_1 = DF.groupby(\"Year\")[\"TotalPay\"].mean()\n",
    "Group_2 = DF.groupby(\"Year\")[\"TotalPay\"].max()\n",
    "\n",
    "print(\"Average Salaries Across Different Years:\")\n",
    "print(Group_1, \"\\n\\n\")\n",
    "\n",
    "print(\"Maximum Salaries Across Different Years:\")\n",
    "print(Group_2)"
   ]
  },
  {
   "cell_type": "markdown",
   "id": "a18f32f7-73de-4dfb-90e5-99769f81b2a5",
   "metadata": {},
   "source": [
    "### About the Comparison I will Mention it in the summary down ..."
   ]
  },
  {
   "cell_type": "markdown",
   "id": "ced93a4d-6274-4991-b35e-49dc340b7f35",
   "metadata": {},
   "source": [
    "# **-- Task 6 --**"
   ]
  },
  {
   "cell_type": "markdown",
   "id": "abb9d99d-77f4-4090-b255-6ad6188f7085",
   "metadata": {},
   "source": [
    "### **Simple Correlation Analysis**"
   ]
  },
  {
   "cell_type": "code",
   "execution_count": 101,
   "id": "814fb762-2ac4-4ecf-9d4e-241b66bbc6dc",
   "metadata": {},
   "outputs": [
    {
     "name": "stdout",
     "output_type": "stream",
     "text": [
      "\n",
      "\n",
      "The Correlation Between Salary (TotalPay) && Year -->0.03209039798559028\t--  Weake relationship  --\n",
      "\n",
      "The Correlation Between Salary (TotalPay) && OvertimePay -->0.504858870452246\t--  Medial relationship -- \n",
      "\n",
      "\n",
      "\n"
     ]
    },
    {
     "data": {
      "image/png": "[encoded data removed]",
      "text/plain": [
       "<Figure size 640x480 with 1 Axes>"
      ]
     },
     "metadata": {},
     "output_type": "display_data"
    }
   ],
   "source": [
    "# Function to calculate a Correlation Coefficient Between 2 variable\n",
    "# Measure if any linear relationship between this 2 variable -- range [-1, 1]\n",
    "\n",
    "Corr = DF[\"TotalPay\"].corr(DF[\"Year\"])\n",
    "print(f\"\\n\\nThe Correlation Between Salary (TotalPay) && Year -->{Corr}\\t--  Weake relationship  --\")\n",
    "\n",
    "Corr2 = DF[\"TotalPay\"].corr(DF[\"OvertimePay\"])\n",
    "print(f\"\\nThe Correlation Between Salary (TotalPay) && OvertimePay -->{Corr2}\\t--  Medial relationship -- \\n\\n\\n\")\n",
    "\n",
    "plt.scatter(DF[\"TotalPay\"] ,DF[\"OvertimePay\"] )\n",
    "plt.title(\"Correlation Coefficient Between Salary & OvertimePay \\n\") \n",
    "\n",
    "\n",
    "plt.show()\n",
    "\n"
   ]
  },
  {
   "cell_type": "markdown",
   "id": "d5ab1eed-3b3f-4579-96de-a76e5d9a4b6d",
   "metadata": {},
   "source": [
    "# **-- Task 7 --**"
   ]
  },
  {
   "cell_type": "markdown",
   "id": "f23a8b6e-cb33-4a20-aac9-f2e06ad155b7",
   "metadata": {},
   "source": [
    "## **Summary of Insights**"
   ]
  },
  {
   "cell_type": "markdown",
   "id": "adc31460-0485-4092-ae15-965188a4353c",
   "metadata": {},
   "source": [
    "### Report summarizing the findings and insights from the analyses"
   ]
  },
  {
   "cell_type": "markdown",
   "id": "876aa574-4799-4937-a8ac-a7ba7414969f",
   "metadata": {
    "tags": []
   },
   "source": [
    "#### <> Based on the simple statistics that we calculated,  we saw that most Salary for Employees is around '74768' (the average). \n",
    "#### <> Based on the Correlation analysis, they are a Medial positive linear relationship between the OvertimePay and the Total Salary \n",
    "#### <> and they are a weak positive linear relationship between the Total Salary and the Year. \n",
    "#### <> Based on the Histogram analysis we see that the salary is positively skewed, the Order--> ( mode -- median -- mean).\n",
    "#### <> In my analysis, I grouped the dataset based on the year attribute and calculated the mean and max salary for each year. \n",
    "#### <> From this analysis, I found out that the highest average salary was in 2013, and the maximum salary was in 2011.\n",
    " "
   ]
  }
 ],
 "metadata": {
  "kernelspec": {
   "display_name": "Python 3 (ipykernel)",
   "language": "python",
   "name": "python3"
  },
  "language_info": {
   "codemirror_mode": {
    "name": "ipython",
    "version": 3
   },
   "file_extension": ".py",
   "mimetype": "text/x-python",
   "name": "python",
   "nbconvert_exporter": "python",
   "pygments_lexer": "ipython3",
   "version": "3.11.5"
  }
 },
 "nbformat": 4,
 "nbformat_minor": 5
}
